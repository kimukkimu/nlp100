{
 "cells": [
  {
   "cell_type": "markdown",
   "metadata": {},
   "source": [
    "# 第１章：準備運動\n",
    "## 00. 文字列の逆順\n",
    "文字列\"stressed\"の文字を逆に（末尾から先頭に向かって）並べた文字列を得よ．"
   ]
  },
  {
   "cell_type": "code",
   "execution_count": 4,
   "metadata": {
    "collapsed": false
   },
   "outputs": [
    {
     "data": {
      "text/plain": [
       "'desserts'"
      ]
     },
     "execution_count": 4,
     "metadata": {},
     "output_type": "execute_result"
    }
   ],
   "source": [
    "s = \"stressed\"\n",
    "ans = s[::-1]\n",
    "ans"
   ]
  },
  {
   "cell_type": "markdown",
   "metadata": {},
   "source": [
    "## 01. 「パタトクカシーー」\n",
    "「パタトクカシーー」という文字列の1,3,5,7文字目を取り出して連結した文字列を得よ．"
   ]
  },
  {
   "cell_type": "code",
   "execution_count": 7,
   "metadata": {
    "collapsed": false
   },
   "outputs": [
    {
     "data": {
      "text/plain": [
       "'タクシー'"
      ]
     },
     "execution_count": 7,
     "metadata": {},
     "output_type": "execute_result"
    }
   ],
   "source": [
    "s = 'パタトクカシーー'\n",
    "ans = s[1::2]\n",
    "ans"
   ]
  },
  {
   "cell_type": "markdown",
   "metadata": {},
   "source": [
    "## 02. 「パトカー」＋「タクシー」＝「パタトクカシーー」\n",
    "「パトカー」＋「タクシー」の文字を先頭から交互に連結して文字列「パタトクカシーー」を得よ．"
   ]
  },
  {
   "cell_type": "code",
   "execution_count": 10,
   "metadata": {
    "collapsed": false
   },
   "outputs": [
    {
     "data": {
      "text/plain": [
       "'パタトクカシーー'"
      ]
     },
     "execution_count": 10,
     "metadata": {},
     "output_type": "execute_result"
    }
   ],
   "source": [
    "p = 'パトカー'\n",
    "t = 'タクシー'\n",
    "ans =''\n",
    "for p1, t1 in zip(p, t):\n",
    "    ans += p1+ t1\n",
    "ans"
   ]
  },
  {
   "cell_type": "markdown",
   "metadata": {},
   "source": [
    "## 03. 円周率\n",
    "\"Now I need a drink, alcoholic of course, after the heavy lectures involving quantum mechanics.\"という文を単語に分解し，各単語の（アルファベットの）文字数を先頭から出現順に並べたリストを作成せよ．"
   ]
  },
  {
   "cell_type": "code",
   "execution_count": 19,
   "metadata": {
    "collapsed": false
   },
   "outputs": [
    {
     "data": {
      "text/plain": [
       "[3, 1, 4, 1, 5, 9, 2, 6, 5, 3, 5, 8, 9, 7, 9]"
      ]
     },
     "execution_count": 19,
     "metadata": {},
     "output_type": "execute_result"
    }
   ],
   "source": [
    "s = 'Now I need a drink, alcoholic of course, after the heavy lectures involving quantum mechanics.'\n",
    "s_list = s.replace(',', '').replace('.', '').split(' ')\n",
    "ans = [len(word) for word in s_list]\n",
    "ans"
   ]
  },
  {
   "cell_type": "markdown",
   "metadata": {},
   "source": [
    "## 04. 元素記号\n",
    "\"Hi He Lied Because Boron Could Not Oxidize Fluorine. New Nations Might Also Sign Peace Security Clause. Arthur King Can.\"という文を単語に分解し，1, 5, 6, 7, 8, 9, 15, 16, 19番目の単語は先頭の1文字，それ以外の単語は先頭に2文字を取り出し，取り出した文字列から単語の位置（先頭から何番目の単語か）への連想配列（辞書型もしくはマップ型）を作成せよ．"
   ]
  },
  {
   "cell_type": "code",
   "execution_count": 21,
   "metadata": {
    "collapsed": false
   },
   "outputs": [
    {
     "data": {
      "text/plain": [
       "{'Al': 13,\n",
       " 'Ar': 18,\n",
       " 'B': 5,\n",
       " 'Be': 4,\n",
       " 'C': 6,\n",
       " 'Ca': 20,\n",
       " 'Cl': 17,\n",
       " 'F': 9,\n",
       " 'H': 1,\n",
       " 'He': 2,\n",
       " 'K': 19,\n",
       " 'Li': 3,\n",
       " 'Mi': 12,\n",
       " 'N': 7,\n",
       " 'Na': 11,\n",
       " 'Ne': 10,\n",
       " 'O': 8,\n",
       " 'P': 15,\n",
       " 'S': 16,\n",
       " 'Si': 14}"
      ]
     },
     "execution_count": 21,
     "metadata": {},
     "output_type": "execute_result"
    }
   ],
   "source": [
    "s = 'Hi He Lied Because Boron Could Not Oxidize Fluorine. New Nations Might Also Sign Peace Security Clause. Arthur King Can.'\n",
    "s_list = s.replace(',', '').replace('.', '').split(' ')\n",
    "l = [1, 5, 6, 7, 8, 9, 15, 16, 19]\n",
    "ans = {}\n",
    "for i, v in enumerate(s_list, start=1):\n",
    "    if i in l:\n",
    "        ans[v[0]] = i\n",
    "    else:\n",
    "        ans[v[:2]] = i\n",
    "ans"
   ]
  },
  {
   "cell_type": "markdown",
   "metadata": {},
   "source": [
    "## 05. n-gram\n",
    "与えられたシーケンス（文字列やリストなど）からn-gramを作る関数を作成せよ．この関数を用い，\"I am an NLPer\"という文から単語bi-gram，文字bi-gramを得よ．"
   ]
  },
  {
   "cell_type": "code",
   "execution_count": 26,
   "metadata": {
    "collapsed": false
   },
   "outputs": [
    {
     "name": "stdout",
     "output_type": "stream",
     "text": [
      "文字bi-gram:  ['I ', ' a', 'am', 'm ', ' a', 'an', 'n ', ' N', 'NL', 'LP', 'Pe', 'er']\n",
      "単語bi-gram:  [['I', 'am'], ['am', 'an'], ['an', 'NLPer']]\n"
     ]
    }
   ],
   "source": [
    "def n_gram(n, s):\n",
    "    \"\"\"\n",
    "    n-gramを求める\n",
    "    \n",
    "    Parameters\n",
    "    --------------\n",
    "    n : int\n",
    "        区切り数\n",
    "    s : string, list\n",
    "        n-gramしたい文字列やリスト\n",
    "    \n",
    "    Returns\n",
    "    ---------\n",
    "     l : list\n",
    "      sをn-gramした結果のリスト\n",
    "    \"\"\"\n",
    "    \n",
    "    l = []\n",
    "    for i in range(len(s) - n + 1):\n",
    "            l.append(s[i:i+n])\n",
    "\n",
    "    return l\n",
    "\n",
    "s = 'I am an NLPer'\n",
    "print('文字bi-gram: ', n_gram(2, s))\n",
    "s2 = s.split(' ')\n",
    "print('単語bi-gram: ', n_gram(2, s2)) # 文字bi-gram"
   ]
  },
  {
   "cell_type": "markdown",
   "metadata": {},
   "source": [
    "## 06. 集合\n",
    "\"paraparaparadise\"と\"paragraph\"に含まれる文字bi-gramの集合を，それぞれ, XとYとして求め，XとYの和集合，積集合，差集合を求めよ．さらに，'se'というbi-gramがXおよびYに含まれるかどうかを調べよ．"
   ]
  },
  {
   "cell_type": "code",
   "execution_count": 32,
   "metadata": {
    "collapsed": false
   },
   "outputs": [
    {
     "name": "stdout",
     "output_type": "stream",
     "text": [
      "和集合:  ['is', 'ad', 'di', 'ar', 'ap', 'ra', 'ag', 'gr', 'se', 'ph', 'pa']\n",
      "積集合:  ['pa', 'ar', 'ap', 'ra']\n",
      "差集合X-Y:  ['ad', 'di', 'se', 'is']\n",
      "差集合Y-X:  ['ag', 'gr', 'ph']\n",
      "集合Xに'se'というbi-gramが含まれるか:  True\n",
      "集合Yに'se'というbi-gramが含まれるか:  False\n"
     ]
    }
   ],
   "source": [
    "s1 = \"paraparaparadise\"\n",
    "s2 = \"paragraph\"\n",
    "X = set(n_gram(2, s1))\n",
    "Y = set(n_gram(2, s2))\n",
    "print('和集合: ', list(X | Y))\n",
    "print('積集合: ', list(X & Y))\n",
    "print('差集合X-Y: ', list(X - Y))\n",
    "print('差集合Y-X: ', list(Y - X))\n",
    "print(\"集合Xに'se'というbi-gramが含まれるか: \", 'se' in X)\n",
    "print(\"集合Yに'se'というbi-gramが含まれるか: \", 'se' in Y)"
   ]
  },
  {
   "cell_type": "markdown",
   "metadata": {},
   "source": [
    "## 07. テンプレートによる文生成\n",
    "引数x, y, zを受け取り「x時のyはz」という文字列を返す関数を実装せよ．さらに，x=12, y=\"気温\", z=22.4として，実行結果を確認せよ．"
   ]
  },
  {
   "cell_type": "code",
   "execution_count": 39,
   "metadata": {
    "collapsed": false
   },
   "outputs": [
    {
     "data": {
      "text/plain": [
       "'12時の気温は22.4'"
      ]
     },
     "execution_count": 39,
     "metadata": {},
     "output_type": "execute_result"
    }
   ],
   "source": [
    "def getTemplate(x, y, z ):\n",
    "    return \"{hour}時の{y}は{z}\".format(hour=x, y=y, z=z)\n",
    "    \n",
    "str = getTemplate(12, '気温', 22.4)\n",
    "str"
   ]
  },
  {
   "cell_type": "markdown",
   "metadata": {},
   "source": [
    "## 08. 暗号文\n",
    "与えられた文字列の各文字を，以下の仕様で変換する関数cipherを実装せよ．\n",
    "\n",
    "英小文字ならば(219 - 文字コード)の文字に置換\n",
    "その他の文字はそのまま出力\n",
    "この関数を用い，英語のメッセージを暗号化・復号化せよ．"
   ]
  },
  {
   "cell_type": "code",
   "execution_count": 42,
   "metadata": {
    "collapsed": false
   },
   "outputs": [
    {
     "name": "stdout",
     "output_type": "stream",
     "text": [
      "暗号:  AadqSDp\n",
      "復号:  AvsfSDg\n"
     ]
    }
   ],
   "source": [
    "def cipher(s):\n",
    "    ans = ''\n",
    "    for c in s:\n",
    "        if c.islower():\n",
    "            ans += chr(215 - ord(c))\n",
    "        else:\n",
    "            ans += c\n",
    "    return ans\n",
    "\n",
    "s = 'AvsfSDg'\n",
    "s2 = cipher(s) \n",
    "print('暗号: ', s2)\n",
    "print('復号: ', cipher(s2))"
   ]
  },
  {
   "cell_type": "markdown",
   "metadata": {},
   "source": [
    "## 09. Typoglycemia\n",
    "スペースで区切られた単語列に対して，各単語の先頭と末尾の文字は残し，それ以外の文字の順序をランダムに並び替えるプログラムを作成せよ．ただし，長さが４以下の単語は並び替えないこととする．適当な英語の文（例えば\"I couldn't believe that I could actually understand what I was reading : the phenomenal power of the human mind .\"）を与え，その実行結果を確認せよ．"
   ]
  },
  {
   "cell_type": "code",
   "execution_count": 53,
   "metadata": {
    "collapsed": false
   },
   "outputs": [
    {
     "name": "stdout",
     "output_type": "stream",
     "text": [
      "I couldn't believe that I could actually understand what I was reading : the phenomenal power of the human mind .\n",
      "typoglycemia:  I co'unldt beveile that I culod alcultay utendnrasd what I was riedang : the pnemenhoal pwoer of the haumn mind . \n"
     ]
    }
   ],
   "source": [
    "import random\n",
    "\n",
    "def typoglycemia(s):\n",
    "    ans = ''\n",
    "    s_list = s.split(' ')\n",
    "    for word in s_list:\n",
    "        if len(word) <= 4:\n",
    "            ans += word + ' '\n",
    "        else:\n",
    "            s2 = ''.join(random.sample(word[1:-1], len(word[1:-1])))\n",
    "            ans += word[0] + s2 + word[-1] + \" \"\n",
    "    return ans\n",
    "\n",
    "s = \"I couldn't believe that I could actually understand what I was reading : the phenomenal power of the human mind .\"\n",
    "print(s)\n",
    "print('typoglycemia: ', typoglycemia(s))"
   ]
  },
  {
   "cell_type": "code",
   "execution_count": null,
   "metadata": {
    "collapsed": true
   },
   "outputs": [],
   "source": []
  }
 ],
 "metadata": {
  "kernelspec": {
   "display_name": "Python 3",
   "language": "python",
   "name": "python3"
  },
  "language_info": {
   "codemirror_mode": {
    "name": "ipython",
    "version": 3
   },
   "file_extension": ".py",
   "mimetype": "text/x-python",
   "name": "python",
   "nbconvert_exporter": "python",
   "pygments_lexer": "ipython3",
   "version": "3.6.0"
  }
 },
 "nbformat": 4,
 "nbformat_minor": 2
}
